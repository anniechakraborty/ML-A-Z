{
 "cells": [
  {
   "cell_type": "code",
   "execution_count": null,
   "metadata": {},
   "outputs": [],
   "source": [
    "# Import necessary libraries\n",
    "\n",
    "\n",
    "# Load the Wine Quality Red dataset\n",
    "\n",
    "\n",
    "# Separate features and target\n",
    "\n",
    "\n",
    "# Split the dataset into an 80-20 training-test set\n",
    "\n",
    "\n",
    "# Create an instance of the StandardScaler class\n",
    "\n",
    "\n",
    "# Fit the StandardScaler on the features from the training set and transform it\n",
    "\n",
    "\n",
    "# Apply the transform to the test set\n",
    "\n",
    "\n",
    "# Print the scaled training and test datasets"
   ]
  }
 ],
 "metadata": {
  "kernelspec": {
   "display_name": "Python 3",
   "language": "python",
   "name": "python3"
  },
  "language_info": {
   "name": "python",
   "version": "3.10.5"
  }
 },
 "nbformat": 4,
 "nbformat_minor": 2
}
